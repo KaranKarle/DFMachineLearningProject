{
 "cells": [
  {
   "cell_type": "markdown",
   "id": "f3b46b5d",
   "metadata": {},
   "source": [
    "# CAPSTONE PROJECT 2"
   ]
  },
  {
   "cell_type": "markdown",
   "id": "57425371",
   "metadata": {},
   "source": [
    "# "
   ]
  },
  {
   "cell_type": "markdown",
   "id": "ad7c7da5",
   "metadata": {},
   "source": [
    "# TASK :-\n",
    "## Build a machine learning model for predicting the early onset of  heart disease using the dataset given below"
   ]
  },
  {
   "cell_type": "markdown",
   "id": "32e75ffa",
   "metadata": {},
   "source": [
    "###  Context: The leading cause of death in the developed world is heart disease. Therefore, there needs to be work done to help prevent the risks of having a heart Attack or stroke"
   ]
  },
  {
   "cell_type": "markdown",
   "id": "bd5301f5",
   "metadata": {},
   "source": [
    "# What you need to do?\n",
    "## Using this dataset you have to predict which patients are most likely to suffer from a \n",
    "## heart disease in the near future using the features given.\n",
    "- 1) Identity the problem type first and then perform Data Cleaning if needed.\n",
    "- 2) Perform Feature Engineering.\n",
    "- 3) Check for missing values and replace them using the Simple Imputer from Sk-Learn only. (Choose the best suited strategy for imputation).\n",
    "- 4) Models to use: \n",
    "       ## 1. Logistic Regression\n",
    "       ## 2. Decision Tree \n",
    "       ## 3. Random Forest\n",
    "- 5) Perform Grid Search and also 10-fold cross validation to find the best Parameters for the problem and finally build a model from the best parameters\n",
    "- 6) Finally generate predictions on the test set and record the metrics like  Precision,Recall,Accuracy Score for the best Model.\n",
    "- 7) Optional : You can also evaluate the ROC-AUC curves for the final model Predictions."
   ]
  },
  {
   "cell_type": "markdown",
   "id": "0d534b69",
   "metadata": {},
   "source": [
    "### Importing the Dependencies (Libraries)"
   ]
  },
  {
   "cell_type": "code",
   "execution_count": 1,
   "id": "4b131785",
   "metadata": {},
   "outputs": [
    {
     "name": "stdout",
     "output_type": "stream",
     "text": [
      "Libraries Import Successful\n"
     ]
    }
   ],
   "source": [
    "import pandas as pd\n",
    "import numpy as np\n",
    "import matplotlib.pyplot as plt\n",
    "import seaborn as sns\n",
    "\n",
    "import warnings\n",
    "warnings.filterwarnings('ignore')\n",
    "\n",
    "#to display all rows columns \n",
    "pd.set_option('display.max_rows', None)\n",
    "pd.set_option('display.max_columns', None)  \n",
    "pd.set_option('display.expand_frame_repr', False)\n",
    "pd.set_option('max_colwidth', -1)\n",
    "print('Libraries Import Successful')\n",
    "\n",
    "from sklearn.preprocessing import LabelEncoder"
   ]
  },
  {
   "cell_type": "markdown",
   "id": "16feb6aa",
   "metadata": {},
   "source": [
    "## The Solution Approach"
   ]
  },
  {
   "cell_type": "markdown",
   "id": "ad1cf0a9",
   "metadata": {},
   "source": [
    "### Data Collection & Analysis"
   ]
  },
  {
   "cell_type": "code",
   "execution_count": 2,
   "id": "6d4fe0b2",
   "metadata": {
    "scrolled": true
   },
   "outputs": [
    {
     "data": {
      "text/html": [
       "<div>\n",
       "<style scoped>\n",
       "    .dataframe tbody tr th:only-of-type {\n",
       "        vertical-align: middle;\n",
       "    }\n",
       "\n",
       "    .dataframe tbody tr th {\n",
       "        vertical-align: top;\n",
       "    }\n",
       "\n",
       "    .dataframe thead th {\n",
       "        text-align: right;\n",
       "    }\n",
       "</style>\n",
       "<table border=\"1\" class=\"dataframe\">\n",
       "  <thead>\n",
       "    <tr style=\"text-align: right;\">\n",
       "      <th></th>\n",
       "      <th>Age</th>\n",
       "      <th>Sex</th>\n",
       "      <th>Chest pain type</th>\n",
       "      <th>BP</th>\n",
       "      <th>Cholesterol</th>\n",
       "      <th>FBS over 120</th>\n",
       "      <th>EKG results</th>\n",
       "      <th>Max HR</th>\n",
       "      <th>Exercise angina</th>\n",
       "      <th>ST depression</th>\n",
       "      <th>Slope of ST</th>\n",
       "      <th>Number of vessels fluro</th>\n",
       "      <th>Thallium</th>\n",
       "      <th>Heart Disease</th>\n",
       "    </tr>\n",
       "  </thead>\n",
       "  <tbody>\n",
       "    <tr>\n",
       "      <th>0</th>\n",
       "      <td>70</td>\n",
       "      <td>1</td>\n",
       "      <td>4</td>\n",
       "      <td>130</td>\n",
       "      <td>322</td>\n",
       "      <td>0</td>\n",
       "      <td>2</td>\n",
       "      <td>109</td>\n",
       "      <td>0</td>\n",
       "      <td>2.4</td>\n",
       "      <td>2</td>\n",
       "      <td>3</td>\n",
       "      <td>3</td>\n",
       "      <td>Presence</td>\n",
       "    </tr>\n",
       "    <tr>\n",
       "      <th>1</th>\n",
       "      <td>67</td>\n",
       "      <td>0</td>\n",
       "      <td>3</td>\n",
       "      <td>115</td>\n",
       "      <td>564</td>\n",
       "      <td>0</td>\n",
       "      <td>2</td>\n",
       "      <td>160</td>\n",
       "      <td>0</td>\n",
       "      <td>1.6</td>\n",
       "      <td>2</td>\n",
       "      <td>0</td>\n",
       "      <td>7</td>\n",
       "      <td>Absence</td>\n",
       "    </tr>\n",
       "    <tr>\n",
       "      <th>2</th>\n",
       "      <td>57</td>\n",
       "      <td>1</td>\n",
       "      <td>2</td>\n",
       "      <td>124</td>\n",
       "      <td>261</td>\n",
       "      <td>0</td>\n",
       "      <td>0</td>\n",
       "      <td>141</td>\n",
       "      <td>0</td>\n",
       "      <td>0.3</td>\n",
       "      <td>1</td>\n",
       "      <td>0</td>\n",
       "      <td>7</td>\n",
       "      <td>Presence</td>\n",
       "    </tr>\n",
       "    <tr>\n",
       "      <th>3</th>\n",
       "      <td>64</td>\n",
       "      <td>1</td>\n",
       "      <td>4</td>\n",
       "      <td>128</td>\n",
       "      <td>263</td>\n",
       "      <td>0</td>\n",
       "      <td>0</td>\n",
       "      <td>105</td>\n",
       "      <td>1</td>\n",
       "      <td>0.2</td>\n",
       "      <td>2</td>\n",
       "      <td>1</td>\n",
       "      <td>7</td>\n",
       "      <td>Absence</td>\n",
       "    </tr>\n",
       "    <tr>\n",
       "      <th>4</th>\n",
       "      <td>74</td>\n",
       "      <td>0</td>\n",
       "      <td>2</td>\n",
       "      <td>120</td>\n",
       "      <td>269</td>\n",
       "      <td>0</td>\n",
       "      <td>2</td>\n",
       "      <td>121</td>\n",
       "      <td>1</td>\n",
       "      <td>0.2</td>\n",
       "      <td>1</td>\n",
       "      <td>1</td>\n",
       "      <td>3</td>\n",
       "      <td>Absence</td>\n",
       "    </tr>\n",
       "  </tbody>\n",
       "</table>\n",
       "</div>"
      ],
      "text/plain": [
       "   Age  Sex  Chest pain type   BP  Cholesterol  FBS over 120  EKG results  Max HR  Exercise angina  ST depression  Slope of ST  Number of vessels fluro  Thallium Heart Disease\n",
       "0  70   1    4                130  322          0             2            109     0                2.4            2            3                        3         Presence    \n",
       "1  67   0    3                115  564          0             2            160     0                1.6            2            0                        7         Absence     \n",
       "2  57   1    2                124  261          0             0            141     0                0.3            1            0                        7         Presence    \n",
       "3  64   1    4                128  263          0             0            105     1                0.2            2            1                        7         Absence     \n",
       "4  74   0    2                120  269          0             2            121     1                0.2            1            1                        3         Absence     "
      ]
     },
     "execution_count": 2,
     "metadata": {},
     "output_type": "execute_result"
    }
   ],
   "source": [
    "df = pd.read_csv('Heart_Disease_Prediction.csv')\n",
    "df.head()"
   ]
  },
  {
   "cell_type": "code",
   "execution_count": 3,
   "id": "1c46e7e3",
   "metadata": {},
   "outputs": [
    {
     "name": "stdout",
     "output_type": "stream",
     "text": [
      "<class 'pandas.core.frame.DataFrame'>\n",
      "RangeIndex: 270 entries, 0 to 269\n",
      "Data columns (total 14 columns):\n",
      " #   Column                   Non-Null Count  Dtype  \n",
      "---  ------                   --------------  -----  \n",
      " 0   Age                      270 non-null    int64  \n",
      " 1   Sex                      270 non-null    int64  \n",
      " 2   Chest pain type          270 non-null    int64  \n",
      " 3   BP                       270 non-null    int64  \n",
      " 4   Cholesterol              270 non-null    int64  \n",
      " 5   FBS over 120             270 non-null    int64  \n",
      " 6   EKG results              270 non-null    int64  \n",
      " 7   Max HR                   270 non-null    int64  \n",
      " 8   Exercise angina          270 non-null    int64  \n",
      " 9   ST depression            270 non-null    float64\n",
      " 10  Slope of ST              270 non-null    int64  \n",
      " 11  Number of vessels fluro  270 non-null    int64  \n",
      " 12  Thallium                 270 non-null    int64  \n",
      " 13  Heart Disease            270 non-null    object \n",
      "dtypes: float64(1), int64(12), object(1)\n",
      "memory usage: 29.7+ KB\n"
     ]
    }
   ],
   "source": [
    "df.info()"
   ]
  },
  {
   "cell_type": "code",
   "execution_count": 4,
   "id": "267d3988",
   "metadata": {},
   "outputs": [
    {
     "data": {
      "text/plain": [
       "(270, 14)"
      ]
     },
     "execution_count": 4,
     "metadata": {},
     "output_type": "execute_result"
    }
   ],
   "source": [
    "df.shape"
   ]
  },
  {
   "cell_type": "code",
   "execution_count": 5,
   "id": "5df68beb",
   "metadata": {},
   "outputs": [
    {
     "data": {
      "text/html": [
       "<div>\n",
       "<style scoped>\n",
       "    .dataframe tbody tr th:only-of-type {\n",
       "        vertical-align: middle;\n",
       "    }\n",
       "\n",
       "    .dataframe tbody tr th {\n",
       "        vertical-align: top;\n",
       "    }\n",
       "\n",
       "    .dataframe thead th {\n",
       "        text-align: right;\n",
       "    }\n",
       "</style>\n",
       "<table border=\"1\" class=\"dataframe\">\n",
       "  <thead>\n",
       "    <tr style=\"text-align: right;\">\n",
       "      <th></th>\n",
       "      <th>count</th>\n",
       "      <th>mean</th>\n",
       "      <th>std</th>\n",
       "      <th>min</th>\n",
       "      <th>25%</th>\n",
       "      <th>50%</th>\n",
       "      <th>75%</th>\n",
       "      <th>max</th>\n",
       "    </tr>\n",
       "  </thead>\n",
       "  <tbody>\n",
       "    <tr>\n",
       "      <th>Age</th>\n",
       "      <td>270.0</td>\n",
       "      <td>54.433333</td>\n",
       "      <td>9.109067</td>\n",
       "      <td>29.0</td>\n",
       "      <td>48.0</td>\n",
       "      <td>55.0</td>\n",
       "      <td>61.0</td>\n",
       "      <td>77.0</td>\n",
       "    </tr>\n",
       "    <tr>\n",
       "      <th>Sex</th>\n",
       "      <td>270.0</td>\n",
       "      <td>0.677778</td>\n",
       "      <td>0.468195</td>\n",
       "      <td>0.0</td>\n",
       "      <td>0.0</td>\n",
       "      <td>1.0</td>\n",
       "      <td>1.0</td>\n",
       "      <td>1.0</td>\n",
       "    </tr>\n",
       "    <tr>\n",
       "      <th>Chest pain type</th>\n",
       "      <td>270.0</td>\n",
       "      <td>3.174074</td>\n",
       "      <td>0.950090</td>\n",
       "      <td>1.0</td>\n",
       "      <td>3.0</td>\n",
       "      <td>3.0</td>\n",
       "      <td>4.0</td>\n",
       "      <td>4.0</td>\n",
       "    </tr>\n",
       "    <tr>\n",
       "      <th>BP</th>\n",
       "      <td>270.0</td>\n",
       "      <td>131.344444</td>\n",
       "      <td>17.861608</td>\n",
       "      <td>94.0</td>\n",
       "      <td>120.0</td>\n",
       "      <td>130.0</td>\n",
       "      <td>140.0</td>\n",
       "      <td>200.0</td>\n",
       "    </tr>\n",
       "    <tr>\n",
       "      <th>Cholesterol</th>\n",
       "      <td>270.0</td>\n",
       "      <td>249.659259</td>\n",
       "      <td>51.686237</td>\n",
       "      <td>126.0</td>\n",
       "      <td>213.0</td>\n",
       "      <td>245.0</td>\n",
       "      <td>280.0</td>\n",
       "      <td>564.0</td>\n",
       "    </tr>\n",
       "    <tr>\n",
       "      <th>FBS over 120</th>\n",
       "      <td>270.0</td>\n",
       "      <td>0.148148</td>\n",
       "      <td>0.355906</td>\n",
       "      <td>0.0</td>\n",
       "      <td>0.0</td>\n",
       "      <td>0.0</td>\n",
       "      <td>0.0</td>\n",
       "      <td>1.0</td>\n",
       "    </tr>\n",
       "    <tr>\n",
       "      <th>EKG results</th>\n",
       "      <td>270.0</td>\n",
       "      <td>1.022222</td>\n",
       "      <td>0.997891</td>\n",
       "      <td>0.0</td>\n",
       "      <td>0.0</td>\n",
       "      <td>2.0</td>\n",
       "      <td>2.0</td>\n",
       "      <td>2.0</td>\n",
       "    </tr>\n",
       "    <tr>\n",
       "      <th>Max HR</th>\n",
       "      <td>270.0</td>\n",
       "      <td>149.677778</td>\n",
       "      <td>23.165717</td>\n",
       "      <td>71.0</td>\n",
       "      <td>133.0</td>\n",
       "      <td>153.5</td>\n",
       "      <td>166.0</td>\n",
       "      <td>202.0</td>\n",
       "    </tr>\n",
       "    <tr>\n",
       "      <th>Exercise angina</th>\n",
       "      <td>270.0</td>\n",
       "      <td>0.329630</td>\n",
       "      <td>0.470952</td>\n",
       "      <td>0.0</td>\n",
       "      <td>0.0</td>\n",
       "      <td>0.0</td>\n",
       "      <td>1.0</td>\n",
       "      <td>1.0</td>\n",
       "    </tr>\n",
       "    <tr>\n",
       "      <th>ST depression</th>\n",
       "      <td>270.0</td>\n",
       "      <td>1.050000</td>\n",
       "      <td>1.145210</td>\n",
       "      <td>0.0</td>\n",
       "      <td>0.0</td>\n",
       "      <td>0.8</td>\n",
       "      <td>1.6</td>\n",
       "      <td>6.2</td>\n",
       "    </tr>\n",
       "    <tr>\n",
       "      <th>Slope of ST</th>\n",
       "      <td>270.0</td>\n",
       "      <td>1.585185</td>\n",
       "      <td>0.614390</td>\n",
       "      <td>1.0</td>\n",
       "      <td>1.0</td>\n",
       "      <td>2.0</td>\n",
       "      <td>2.0</td>\n",
       "      <td>3.0</td>\n",
       "    </tr>\n",
       "    <tr>\n",
       "      <th>Number of vessels fluro</th>\n",
       "      <td>270.0</td>\n",
       "      <td>0.670370</td>\n",
       "      <td>0.943896</td>\n",
       "      <td>0.0</td>\n",
       "      <td>0.0</td>\n",
       "      <td>0.0</td>\n",
       "      <td>1.0</td>\n",
       "      <td>3.0</td>\n",
       "    </tr>\n",
       "    <tr>\n",
       "      <th>Thallium</th>\n",
       "      <td>270.0</td>\n",
       "      <td>4.696296</td>\n",
       "      <td>1.940659</td>\n",
       "      <td>3.0</td>\n",
       "      <td>3.0</td>\n",
       "      <td>3.0</td>\n",
       "      <td>7.0</td>\n",
       "      <td>7.0</td>\n",
       "    </tr>\n",
       "  </tbody>\n",
       "</table>\n",
       "</div>"
      ],
      "text/plain": [
       "                         count        mean        std    min    25%    50%    75%    max\n",
       "Age                      270.0  54.433333   9.109067   29.0   48.0   55.0   61.0   77.0 \n",
       "Sex                      270.0  0.677778    0.468195   0.0    0.0    1.0    1.0    1.0  \n",
       "Chest pain type          270.0  3.174074    0.950090   1.0    3.0    3.0    4.0    4.0  \n",
       "BP                       270.0  131.344444  17.861608  94.0   120.0  130.0  140.0  200.0\n",
       "Cholesterol              270.0  249.659259  51.686237  126.0  213.0  245.0  280.0  564.0\n",
       "FBS over 120             270.0  0.148148    0.355906   0.0    0.0    0.0    0.0    1.0  \n",
       "EKG results              270.0  1.022222    0.997891   0.0    0.0    2.0    2.0    2.0  \n",
       "Max HR                   270.0  149.677778  23.165717  71.0   133.0  153.5  166.0  202.0\n",
       "Exercise angina          270.0  0.329630    0.470952   0.0    0.0    0.0    1.0    1.0  \n",
       "ST depression            270.0  1.050000    1.145210   0.0    0.0    0.8    1.6    6.2  \n",
       "Slope of ST              270.0  1.585185    0.614390   1.0    1.0    2.0    2.0    3.0  \n",
       "Number of vessels fluro  270.0  0.670370    0.943896   0.0    0.0    0.0    1.0    3.0  \n",
       "Thallium                 270.0  4.696296    1.940659   3.0    3.0    3.0    7.0    7.0  "
      ]
     },
     "execution_count": 5,
     "metadata": {},
     "output_type": "execute_result"
    }
   ],
   "source": [
    "df.describe().T"
   ]
  },
  {
   "cell_type": "markdown",
   "id": "e37c703f",
   "metadata": {},
   "source": [
    "### EDA & Data Visualization"
   ]
  },
  {
   "cell_type": "code",
   "execution_count": 6,
   "id": "1d4568f3",
   "metadata": {},
   "outputs": [
    {
     "data": {
      "text/plain": [
       "array(['Age', 'Sex', 'Chest pain type', 'BP', 'Cholesterol',\n",
       "       'FBS over 120', 'EKG results', 'Max HR', 'Exercise angina',\n",
       "       'ST depression', 'Slope of ST', 'Number of vessels fluro',\n",
       "       'Thallium', 'Heart Disease'], dtype=object)"
      ]
     },
     "execution_count": 6,
     "metadata": {},
     "output_type": "execute_result"
    }
   ],
   "source": [
    "df.columns.values"
   ]
  },
  {
   "cell_type": "code",
   "execution_count": 7,
   "id": "404018d6",
   "metadata": {},
   "outputs": [
    {
     "data": {
      "text/plain": [
       "1    183\n",
       "0    87 \n",
       "Name: Sex, dtype: int64"
      ]
     },
     "execution_count": 7,
     "metadata": {},
     "output_type": "execute_result"
    }
   ],
   "source": [
    "df['Sex'].value_counts()"
   ]
  },
  {
   "cell_type": "code",
   "execution_count": 8,
   "id": "bab5428e",
   "metadata": {},
   "outputs": [
    {
     "data": {
      "text/plain": [
       "Absence     150\n",
       "Presence    120\n",
       "Name: Heart Disease, dtype: int64"
      ]
     },
     "execution_count": 8,
     "metadata": {},
     "output_type": "execute_result"
    }
   ],
   "source": [
    "df['Heart Disease'].value_counts()"
   ]
  },
  {
   "cell_type": "code",
   "execution_count": 9,
   "id": "fc7b0f21",
   "metadata": {},
   "outputs": [
    {
     "data": {
      "text/plain": [
       "Age                        41 \n",
       "Sex                        2  \n",
       "Chest pain type            4  \n",
       "BP                         47 \n",
       "Cholesterol                144\n",
       "FBS over 120               2  \n",
       "EKG results                3  \n",
       "Max HR                     90 \n",
       "Exercise angina            2  \n",
       "ST depression              39 \n",
       "Slope of ST                3  \n",
       "Number of vessels fluro    4  \n",
       "Thallium                   3  \n",
       "Heart Disease              2  \n",
       "dtype: int64"
      ]
     },
     "execution_count": 9,
     "metadata": {},
     "output_type": "execute_result"
    }
   ],
   "source": [
    "df.nunique()"
   ]
  },
  {
   "cell_type": "code",
   "execution_count": 10,
   "id": "3aca39fa",
   "metadata": {},
   "outputs": [],
   "source": [
    "colm = ['Sex', 'Chest pain type','FBS over 120','EKG results','Exercise angina','Slope of ST', 'Number of vessels fluro', 'Thallium', 'Heart Disease']"
   ]
  },
  {
   "cell_type": "code",
   "execution_count": 11,
   "id": "356b85d8",
   "metadata": {
    "scrolled": false
   },
   "outputs": [
    {
     "data": {
      "image/png": "[encoded data removed]",
      "text/plain": [
       "<Figure size 432x288 with 1 Axes>"
      ]
     },
     "metadata": {
      "needs_background": "light"
     },
     "output_type": "display_data"
    },
    {
     "data": {
      "image/png": "[encoded data removed]",
      "text/plain": [
       "<Figure size 432x288 with 1 Axes>"
      ]
     },
     "metadata": {
      "needs_background": "light"
     },
     "output_type": "display_data"
    },
    {
     "data": {
      "image/png": "[encoded data removed]",
      "text/plain": [
       "<Figure size 432x288 with 1 Axes>"
      ]
     },
     "metadata": {
      "needs_background": "light"
     },
     "output_type": "display_data"
    },
    {
     "data": {
      "image/png": "[encoded data removed]",
      "text/plain": [
       "<Figure size 432x288 with 1 Axes>"
      ]
     },
     "metadata": {
      "needs_background": "light"
     },
     "output_type": "display_data"
    },
    {
     "data": {
      "image/png": "[encoded data removed]",
      "text/plain": [
       "<Figure size 432x288 with 1 Axes>"
      ]
     },
     "metadata": {
      "needs_background": "light"
     },
     "output_type": "display_data"
    },
    {
     "data": {
      "image/png": "[encoded data removed]",
      "text/plain": [
       "<Figure size 432x288 with 1 Axes>"
      ]
     },
     "metadata": {
      "needs_background": "light"
     },
     "output_type": "display_data"
    },
    {
     "data": {
      "image/png": "[encoded data removed]",
      "text/plain": [
       "<Figure size 432x288 with 1 Axes>"
      ]
     },
     "metadata": {
      "needs_background": "light"
     },
     "output_type": "display_data"
    },
    {
     "data": {
      "image/png": "[encoded data removed]",
      "text/plain": [
       "<Figure size 432x288 with 1 Axes>"
      ]
     },
     "metadata": {
      "needs_background": "light"
     },
     "output_type": "display_data"
    },
    {
     "data": {
      "image/png": "[encoded data removed]",
      "text/plain": [
       "<Figure size 432x288 with 1 Axes>"
      ]
     },
     "metadata": {
      "needs_background": "light"
     },
     "output_type": "display_data"
    }
   ],
   "source": [
    "for col in colm:\n",
    "    sns.countplot(df[col])\n",
    "    plt.show()"
   ]
  },
  {
   "cell_type": "code",
   "execution_count": 12,
   "id": "7f916b07",
   "metadata": {},
   "outputs": [
    {
     "data": {
      "image/png": "[encoded data removed]",
      "text/plain": [
       "<Figure size 576x432 with 1 Axes>"
      ]
     },
     "metadata": {
      "needs_background": "light"
     },
     "output_type": "display_data"
    }
   ],
   "source": [
    "plt.figure(figsize=(8,6))\n",
    "ax = sns.countplot(x='Heart Disease', hue='Sex', data=df)\n",
    "legend_labels, _= ax.get_legend_handles_labels()\n",
    "ax.legend(legend_labels, ['Female','Male'], bbox_to_anchor=(1,1))\n",
    "plt.show()"
   ]
  },
  {
   "cell_type": "code",
   "execution_count": 13,
   "id": "9c9115ae",
   "metadata": {},
   "outputs": [
    {
     "data": {
      "image/png": "[encoded data removed]",
      "text/plain": [
       "<Figure size 1296x432 with 1 Axes>"
      ]
     },
     "metadata": {
      "needs_background": "light"
     },
     "output_type": "display_data"
    }
   ],
   "source": [
    "plt.figure(figsize=(18,6))\n",
    "ax = sns.countplot(x='Age', data=df)\n",
    "\n",
    "plt.show()"
   ]
  },
  {
   "cell_type": "code",
   "execution_count": 14,
   "id": "bb946143",
   "metadata": {},
   "outputs": [
    {
     "data": {
      "image/png": "[encoded data removed]",
      "text/plain": [
       "<Figure size 1296x432 with 1 Axes>"
      ]
     },
     "metadata": {
      "needs_background": "light"
     },
     "output_type": "display_data"
    }
   ],
   "source": [
    "plt.figure(figsize=(18,6))\n",
    "ax = sns.countplot(x='Age', hue='Heart Disease', data=df)\n",
    "legend_labels, _= ax.get_legend_handles_labels()\n",
    "ax.legend(legend_labels, ['Presence','Absence'], bbox_to_anchor=(1,1))\n",
    "plt.show()"
   ]
  },
  {
   "cell_type": "code",
   "execution_count": 15,
   "id": "6c4c3f02",
   "metadata": {},
   "outputs": [
    {
     "name": "stdout",
     "output_type": "stream",
     "text": [
      "Absence     150\n",
      "Presence    120\n",
      "Name: Heart Disease, dtype: int64\n",
      "['Presence' 'Absence']\n"
     ]
    }
   ],
   "source": [
    "print(df['Heart Disease'].value_counts())\n",
    "print(df['Heart Disease'].unique())"
   ]
  },
  {
   "cell_type": "markdown",
   "id": "5e1b1319",
   "metadata": {},
   "source": [
    "### Label Encoding"
   ]
  },
  {
   "cell_type": "code",
   "execution_count": 16,
   "id": "35030ec6",
   "metadata": {},
   "outputs": [
    {
     "name": "stdout",
     "output_type": "stream",
     "text": [
      "0    1\n",
      "1    0\n",
      "2    1\n",
      "3    0\n",
      "4    0\n",
      "Name: Heart Disease, dtype: int32\n"
     ]
    }
   ],
   "source": [
    "le = LabelEncoder()\n",
    "df['Heart Disease']=le.fit_transform(df['Heart Disease'])\n",
    "print(df['Heart Disease'].head())"
   ]
  },
  {
   "cell_type": "code",
   "execution_count": 17,
   "id": "0ff008bf",
   "metadata": {},
   "outputs": [
    {
     "data": {
      "text/plain": [
       "0    150\n",
       "1    120\n",
       "Name: Heart Disease, dtype: int64"
      ]
     },
     "execution_count": 17,
     "metadata": {},
     "output_type": "execute_result"
    }
   ],
   "source": [
    "df['Heart Disease'].value_counts() "
   ]
  },
  {
   "cell_type": "code",
   "execution_count": 18,
   "id": "32cbeef4",
   "metadata": {},
   "outputs": [
    {
     "data": {
      "text/plain": [
       "array([1, 0])"
      ]
     },
     "execution_count": 18,
     "metadata": {},
     "output_type": "execute_result"
    }
   ],
   "source": [
    "df['Heart Disease'].unique() #Absence(0) = 150 ,Presence(1) = 120"
   ]
  },
  {
   "cell_type": "markdown",
   "id": "c125f36b",
   "metadata": {},
   "source": [
    "##### 0 is for Absence and 1 is for Presence"
   ]
  },
  {
   "cell_type": "code",
   "execution_count": 19,
   "id": "f507ed98",
   "metadata": {},
   "outputs": [
    {
     "data": {
      "text/html": [
       "<div>\n",
       "<style scoped>\n",
       "    .dataframe tbody tr th:only-of-type {\n",
       "        vertical-align: middle;\n",
       "    }\n",
       "\n",
       "    .dataframe tbody tr th {\n",
       "        vertical-align: top;\n",
       "    }\n",
       "\n",
       "    .dataframe thead th {\n",
       "        text-align: right;\n",
       "    }\n",
       "</style>\n",
       "<table border=\"1\" class=\"dataframe\">\n",
       "  <thead>\n",
       "    <tr style=\"text-align: right;\">\n",
       "      <th></th>\n",
       "      <th>Age</th>\n",
       "      <th>Sex</th>\n",
       "      <th>Chest pain type</th>\n",
       "      <th>BP</th>\n",
       "      <th>Cholesterol</th>\n",
       "      <th>FBS over 120</th>\n",
       "      <th>EKG results</th>\n",
       "      <th>Max HR</th>\n",
       "      <th>Exercise angina</th>\n",
       "      <th>ST depression</th>\n",
       "      <th>Slope of ST</th>\n",
       "      <th>Number of vessels fluro</th>\n",
       "      <th>Thallium</th>\n",
       "      <th>Heart Disease</th>\n",
       "    </tr>\n",
       "  </thead>\n",
       "  <tbody>\n",
       "    <tr>\n",
       "      <th>Age</th>\n",
       "      <td>1.000000</td>\n",
       "      <td>-0.094401</td>\n",
       "      <td>0.096920</td>\n",
       "      <td>0.273053</td>\n",
       "      <td>0.220056</td>\n",
       "      <td>0.123458</td>\n",
       "      <td>0.128171</td>\n",
       "      <td>-0.402215</td>\n",
       "      <td>0.098297</td>\n",
       "      <td>0.194234</td>\n",
       "      <td>0.159774</td>\n",
       "      <td>0.356081</td>\n",
       "      <td>0.106100</td>\n",
       "      <td>0.212322</td>\n",
       "    </tr>\n",
       "    <tr>\n",
       "      <th>Sex</th>\n",
       "      <td>-0.094401</td>\n",
       "      <td>1.000000</td>\n",
       "      <td>0.034636</td>\n",
       "      <td>-0.062693</td>\n",
       "      <td>-0.201647</td>\n",
       "      <td>0.042140</td>\n",
       "      <td>0.039253</td>\n",
       "      <td>-0.076101</td>\n",
       "      <td>0.180022</td>\n",
       "      <td>0.097412</td>\n",
       "      <td>0.050545</td>\n",
       "      <td>0.086830</td>\n",
       "      <td>0.391046</td>\n",
       "      <td>0.297721</td>\n",
       "    </tr>\n",
       "    <tr>\n",
       "      <th>Chest pain type</th>\n",
       "      <td>0.096920</td>\n",
       "      <td>0.034636</td>\n",
       "      <td>1.000000</td>\n",
       "      <td>-0.043196</td>\n",
       "      <td>0.090465</td>\n",
       "      <td>-0.098537</td>\n",
       "      <td>0.074325</td>\n",
       "      <td>-0.317682</td>\n",
       "      <td>0.353160</td>\n",
       "      <td>0.167244</td>\n",
       "      <td>0.136900</td>\n",
       "      <td>0.225890</td>\n",
       "      <td>0.262659</td>\n",
       "      <td>0.417436</td>\n",
       "    </tr>\n",
       "    <tr>\n",
       "      <th>BP</th>\n",
       "      <td>0.273053</td>\n",
       "      <td>-0.062693</td>\n",
       "      <td>-0.043196</td>\n",
       "      <td>1.000000</td>\n",
       "      <td>0.173019</td>\n",
       "      <td>0.155681</td>\n",
       "      <td>0.116157</td>\n",
       "      <td>-0.039136</td>\n",
       "      <td>0.082793</td>\n",
       "      <td>0.222800</td>\n",
       "      <td>0.142472</td>\n",
       "      <td>0.085697</td>\n",
       "      <td>0.132045</td>\n",
       "      <td>0.155383</td>\n",
       "    </tr>\n",
       "    <tr>\n",
       "      <th>Cholesterol</th>\n",
       "      <td>0.220056</td>\n",
       "      <td>-0.201647</td>\n",
       "      <td>0.090465</td>\n",
       "      <td>0.173019</td>\n",
       "      <td>1.000000</td>\n",
       "      <td>0.025186</td>\n",
       "      <td>0.167652</td>\n",
       "      <td>-0.018739</td>\n",
       "      <td>0.078243</td>\n",
       "      <td>0.027709</td>\n",
       "      <td>-0.005755</td>\n",
       "      <td>0.126541</td>\n",
       "      <td>0.028836</td>\n",
       "      <td>0.118021</td>\n",
       "    </tr>\n",
       "    <tr>\n",
       "      <th>FBS over 120</th>\n",
       "      <td>0.123458</td>\n",
       "      <td>0.042140</td>\n",
       "      <td>-0.098537</td>\n",
       "      <td>0.155681</td>\n",
       "      <td>0.025186</td>\n",
       "      <td>1.000000</td>\n",
       "      <td>0.053499</td>\n",
       "      <td>0.022494</td>\n",
       "      <td>-0.004107</td>\n",
       "      <td>-0.025538</td>\n",
       "      <td>0.044076</td>\n",
       "      <td>0.123774</td>\n",
       "      <td>0.049237</td>\n",
       "      <td>-0.016319</td>\n",
       "    </tr>\n",
       "    <tr>\n",
       "      <th>EKG results</th>\n",
       "      <td>0.128171</td>\n",
       "      <td>0.039253</td>\n",
       "      <td>0.074325</td>\n",
       "      <td>0.116157</td>\n",
       "      <td>0.167652</td>\n",
       "      <td>0.053499</td>\n",
       "      <td>1.000000</td>\n",
       "      <td>-0.074628</td>\n",
       "      <td>0.095098</td>\n",
       "      <td>0.120034</td>\n",
       "      <td>0.160614</td>\n",
       "      <td>0.114368</td>\n",
       "      <td>0.007337</td>\n",
       "      <td>0.182091</td>\n",
       "    </tr>\n",
       "    <tr>\n",
       "      <th>Max HR</th>\n",
       "      <td>-0.402215</td>\n",
       "      <td>-0.076101</td>\n",
       "      <td>-0.317682</td>\n",
       "      <td>-0.039136</td>\n",
       "      <td>-0.018739</td>\n",
       "      <td>0.022494</td>\n",
       "      <td>-0.074628</td>\n",
       "      <td>1.000000</td>\n",
       "      <td>-0.380719</td>\n",
       "      <td>-0.349045</td>\n",
       "      <td>-0.386847</td>\n",
       "      <td>-0.265333</td>\n",
       "      <td>-0.253397</td>\n",
       "      <td>-0.418514</td>\n",
       "    </tr>\n",
       "    <tr>\n",
       "      <th>Exercise angina</th>\n",
       "      <td>0.098297</td>\n",
       "      <td>0.180022</td>\n",
       "      <td>0.353160</td>\n",
       "      <td>0.082793</td>\n",
       "      <td>0.078243</td>\n",
       "      <td>-0.004107</td>\n",
       "      <td>0.095098</td>\n",
       "      <td>-0.380719</td>\n",
       "      <td>1.000000</td>\n",
       "      <td>0.274672</td>\n",
       "      <td>0.255908</td>\n",
       "      <td>0.153347</td>\n",
       "      <td>0.321449</td>\n",
       "      <td>0.419303</td>\n",
       "    </tr>\n",
       "    <tr>\n",
       "      <th>ST depression</th>\n",
       "      <td>0.194234</td>\n",
       "      <td>0.097412</td>\n",
       "      <td>0.167244</td>\n",
       "      <td>0.222800</td>\n",
       "      <td>0.027709</td>\n",
       "      <td>-0.025538</td>\n",
       "      <td>0.120034</td>\n",
       "      <td>-0.349045</td>\n",
       "      <td>0.274672</td>\n",
       "      <td>1.000000</td>\n",
       "      <td>0.609712</td>\n",
       "      <td>0.255005</td>\n",
       "      <td>0.324333</td>\n",
       "      <td>0.417967</td>\n",
       "    </tr>\n",
       "    <tr>\n",
       "      <th>Slope of ST</th>\n",
       "      <td>0.159774</td>\n",
       "      <td>0.050545</td>\n",
       "      <td>0.136900</td>\n",
       "      <td>0.142472</td>\n",
       "      <td>-0.005755</td>\n",
       "      <td>0.044076</td>\n",
       "      <td>0.160614</td>\n",
       "      <td>-0.386847</td>\n",
       "      <td>0.255908</td>\n",
       "      <td>0.609712</td>\n",
       "      <td>1.000000</td>\n",
       "      <td>0.109498</td>\n",
       "      <td>0.283678</td>\n",
       "      <td>0.337616</td>\n",
       "    </tr>\n",
       "    <tr>\n",
       "      <th>Number of vessels fluro</th>\n",
       "      <td>0.356081</td>\n",
       "      <td>0.086830</td>\n",
       "      <td>0.225890</td>\n",
       "      <td>0.085697</td>\n",
       "      <td>0.126541</td>\n",
       "      <td>0.123774</td>\n",
       "      <td>0.114368</td>\n",
       "      <td>-0.265333</td>\n",
       "      <td>0.153347</td>\n",
       "      <td>0.255005</td>\n",
       "      <td>0.109498</td>\n",
       "      <td>1.000000</td>\n",
       "      <td>0.255648</td>\n",
       "      <td>0.455336</td>\n",
       "    </tr>\n",
       "    <tr>\n",
       "      <th>Thallium</th>\n",
       "      <td>0.106100</td>\n",
       "      <td>0.391046</td>\n",
       "      <td>0.262659</td>\n",
       "      <td>0.132045</td>\n",
       "      <td>0.028836</td>\n",
       "      <td>0.049237</td>\n",
       "      <td>0.007337</td>\n",
       "      <td>-0.253397</td>\n",
       "      <td>0.321449</td>\n",
       "      <td>0.324333</td>\n",
       "      <td>0.283678</td>\n",
       "      <td>0.255648</td>\n",
       "      <td>1.000000</td>\n",
       "      <td>0.525020</td>\n",
       "    </tr>\n",
       "    <tr>\n",
       "      <th>Heart Disease</th>\n",
       "      <td>0.212322</td>\n",
       "      <td>0.297721</td>\n",
       "      <td>0.417436</td>\n",
       "      <td>0.155383</td>\n",
       "      <td>0.118021</td>\n",
       "      <td>-0.016319</td>\n",
       "      <td>0.182091</td>\n",
       "      <td>-0.418514</td>\n",
       "      <td>0.419303</td>\n",
       "      <td>0.417967</td>\n",
       "      <td>0.337616</td>\n",
       "      <td>0.455336</td>\n",
       "      <td>0.525020</td>\n",
       "      <td>1.000000</td>\n",
       "    </tr>\n",
       "  </tbody>\n",
       "</table>\n",
       "</div>"
      ],
      "text/plain": [
       "                              Age       Sex  Chest pain type        BP  Cholesterol  FBS over 120  EKG results    Max HR  Exercise angina  ST depression  Slope of ST  Number of vessels fluro  Thallium  Heart Disease\n",
       "Age                      1.000000 -0.094401  0.096920         0.273053  0.220056     0.123458      0.128171    -0.402215  0.098297         0.194234       0.159774     0.356081                 0.106100  0.212322     \n",
       "Sex                     -0.094401  1.000000  0.034636        -0.062693 -0.201647     0.042140      0.039253    -0.076101  0.180022         0.097412       0.050545     0.086830                 0.391046  0.297721     \n",
       "Chest pain type          0.096920  0.034636  1.000000        -0.043196  0.090465    -0.098537      0.074325    -0.317682  0.353160         0.167244       0.136900     0.225890                 0.262659  0.417436     \n",
       "BP                       0.273053 -0.062693 -0.043196         1.000000  0.173019     0.155681      0.116157    -0.039136  0.082793         0.222800       0.142472     0.085697                 0.132045  0.155383     \n",
       "Cholesterol              0.220056 -0.201647  0.090465         0.173019  1.000000     0.025186      0.167652    -0.018739  0.078243         0.027709      -0.005755     0.126541                 0.028836  0.118021     \n",
       "FBS over 120             0.123458  0.042140 -0.098537         0.155681  0.025186     1.000000      0.053499     0.022494 -0.004107        -0.025538       0.044076     0.123774                 0.049237 -0.016319     \n",
       "EKG results              0.128171  0.039253  0.074325         0.116157  0.167652     0.053499      1.000000    -0.074628  0.095098         0.120034       0.160614     0.114368                 0.007337  0.182091     \n",
       "Max HR                  -0.402215 -0.076101 -0.317682        -0.039136 -0.018739     0.022494     -0.074628     1.000000 -0.380719        -0.349045      -0.386847    -0.265333                -0.253397 -0.418514     \n",
       "Exercise angina          0.098297  0.180022  0.353160         0.082793  0.078243    -0.004107      0.095098    -0.380719  1.000000         0.274672       0.255908     0.153347                 0.321449  0.419303     \n",
       "ST depression            0.194234  0.097412  0.167244         0.222800  0.027709    -0.025538      0.120034    -0.349045  0.274672         1.000000       0.609712     0.255005                 0.324333  0.417967     \n",
       "Slope of ST              0.159774  0.050545  0.136900         0.142472 -0.005755     0.044076      0.160614    -0.386847  0.255908         0.609712       1.000000     0.109498                 0.283678  0.337616     \n",
       "Number of vessels fluro  0.356081  0.086830  0.225890         0.085697  0.126541     0.123774      0.114368    -0.265333  0.153347         0.255005       0.109498     1.000000                 0.255648  0.455336     \n",
       "Thallium                 0.106100  0.391046  0.262659         0.132045  0.028836     0.049237      0.007337    -0.253397  0.321449         0.324333       0.283678     0.255648                 1.000000  0.525020     \n",
       "Heart Disease            0.212322  0.297721  0.417436         0.155383  0.118021    -0.016319      0.182091    -0.418514  0.419303         0.417967       0.337616     0.455336                 0.525020  1.000000     "
      ]
     },
     "execution_count": 19,
     "metadata": {},
     "output_type": "execute_result"
    }
   ],
   "source": [
    "# Checking for any correlations.\n",
    "df.corr()"
   ]
  },
  {
   "cell_type": "code",
   "execution_count": 20,
   "id": "0da85d6c",
   "metadata": {},
   "outputs": [
    {
     "data": {
      "text/plain": [
       "<AxesSubplot:>"
      ]
     },
     "execution_count": 20,
     "metadata": {},
     "output_type": "execute_result"
    },
    {
     "data": {
      "image/png": "[encoded data removed]",
      "text/plain": [
       "<Figure size 1080x720 with 2 Axes>"
      ]
     },
     "metadata": {
      "needs_background": "light"
     },
     "output_type": "display_data"
    }
   ],
   "source": [
    "# understanding Correlation With HEATMAP\n",
    "plt.figure(figsize=(15,10))\n",
    "corr = df.corr()\n",
    "sns.heatmap(corr, annot = True, linewidths= 0.2, linecolor= 'white')"
   ]
  },
  {
   "cell_type": "code",
   "execution_count": 21,
   "id": "44b354e8",
   "metadata": {},
   "outputs": [],
   "source": [
    "# Copy of Data set\n",
    "h_df = df"
   ]
  },
  {
   "cell_type": "code",
   "execution_count": 22,
   "id": "f59e61c2",
   "metadata": {},
   "outputs": [
    {
     "data": {
      "text/html": [
       "<div>\n",
       "<style scoped>\n",
       "    .dataframe tbody tr th:only-of-type {\n",
       "        vertical-align: middle;\n",
       "    }\n",
       "\n",
       "    .dataframe tbody tr th {\n",
       "        vertical-align: top;\n",
       "    }\n",
       "\n",
       "    .dataframe thead th {\n",
       "        text-align: right;\n",
       "    }\n",
       "</style>\n",
       "<table border=\"1\" class=\"dataframe\">\n",
       "  <thead>\n",
       "    <tr style=\"text-align: right;\">\n",
       "      <th></th>\n",
       "      <th>Age</th>\n",
       "      <th>Sex</th>\n",
       "      <th>Chest pain type</th>\n",
       "      <th>BP</th>\n",
       "      <th>Cholesterol</th>\n",
       "      <th>FBS over 120</th>\n",
       "      <th>EKG results</th>\n",
       "      <th>Max HR</th>\n",
       "      <th>Exercise angina</th>\n",
       "      <th>ST depression</th>\n",
       "      <th>Slope of ST</th>\n",
       "      <th>Number of vessels fluro</th>\n",
       "      <th>Thallium</th>\n",
       "      <th>Heart Disease</th>\n",
       "    </tr>\n",
       "  </thead>\n",
       "  <tbody>\n",
       "    <tr>\n",
       "      <th>0</th>\n",
       "      <td>70</td>\n",
       "      <td>1</td>\n",
       "      <td>4</td>\n",
       "      <td>130</td>\n",
       "      <td>322</td>\n",
       "      <td>0</td>\n",
       "      <td>2</td>\n",
       "      <td>109</td>\n",
       "      <td>0</td>\n",
       "      <td>2.4</td>\n",
       "      <td>2</td>\n",
       "      <td>3</td>\n",
       "      <td>3</td>\n",
       "      <td>1</td>\n",
       "    </tr>\n",
       "    <tr>\n",
       "      <th>1</th>\n",
       "      <td>67</td>\n",
       "      <td>0</td>\n",
       "      <td>3</td>\n",
       "      <td>115</td>\n",
       "      <td>564</td>\n",
       "      <td>0</td>\n",
       "      <td>2</td>\n",
       "      <td>160</td>\n",
       "      <td>0</td>\n",
       "      <td>1.6</td>\n",
       "      <td>2</td>\n",
       "      <td>0</td>\n",
       "      <td>7</td>\n",
       "      <td>0</td>\n",
       "    </tr>\n",
       "    <tr>\n",
       "      <th>2</th>\n",
       "      <td>57</td>\n",
       "      <td>1</td>\n",
       "      <td>2</td>\n",
       "      <td>124</td>\n",
       "      <td>261</td>\n",
       "      <td>0</td>\n",
       "      <td>0</td>\n",
       "      <td>141</td>\n",
       "      <td>0</td>\n",
       "      <td>0.3</td>\n",
       "      <td>1</td>\n",
       "      <td>0</td>\n",
       "      <td>7</td>\n",
       "      <td>1</td>\n",
       "    </tr>\n",
       "    <tr>\n",
       "      <th>3</th>\n",
       "      <td>64</td>\n",
       "      <td>1</td>\n",
       "      <td>4</td>\n",
       "      <td>128</td>\n",
       "      <td>263</td>\n",
       "      <td>0</td>\n",
       "      <td>0</td>\n",
       "      <td>105</td>\n",
       "      <td>1</td>\n",
       "      <td>0.2</td>\n",
       "      <td>2</td>\n",
       "      <td>1</td>\n",
       "      <td>7</td>\n",
       "      <td>0</td>\n",
       "    </tr>\n",
       "    <tr>\n",
       "      <th>4</th>\n",
       "      <td>74</td>\n",
       "      <td>0</td>\n",
       "      <td>2</td>\n",
       "      <td>120</td>\n",
       "      <td>269</td>\n",
       "      <td>0</td>\n",
       "      <td>2</td>\n",
       "      <td>121</td>\n",
       "      <td>1</td>\n",
       "      <td>0.2</td>\n",
       "      <td>1</td>\n",
       "      <td>1</td>\n",
       "      <td>3</td>\n",
       "      <td>0</td>\n",
       "    </tr>\n",
       "  </tbody>\n",
       "</table>\n",
       "</div>"
      ],
      "text/plain": [
       "   Age  Sex  Chest pain type   BP  Cholesterol  FBS over 120  EKG results  Max HR  Exercise angina  ST depression  Slope of ST  Number of vessels fluro  Thallium  Heart Disease\n",
       "0  70   1    4                130  322          0             2            109     0                2.4            2            3                        3         1            \n",
       "1  67   0    3                115  564          0             2            160     0                1.6            2            0                        7         0            \n",
       "2  57   1    2                124  261          0             0            141     0                0.3            1            0                        7         1            \n",
       "3  64   1    4                128  263          0             0            105     1                0.2            2            1                        7         0            \n",
       "4  74   0    2                120  269          0             2            121     1                0.2            1            1                        3         0            "
      ]
     },
     "execution_count": 22,
     "metadata": {},
     "output_type": "execute_result"
    }
   ],
   "source": [
    "h_df.head()"
   ]
  },
  {
   "cell_type": "markdown",
   "id": "31cf75e3",
   "metadata": {},
   "source": [
    "### Split the data into Inputs and Target"
   ]
  },
  {
   "cell_type": "code",
   "execution_count": 23,
   "id": "1a072940",
   "metadata": {},
   "outputs": [],
   "source": [
    "inputs = h_df.drop('Heart Disease',axis=1)\n",
    "target = h_df['Heart Disease']"
   ]
  },
  {
   "cell_type": "code",
   "execution_count": 24,
   "id": "0b5d9c30",
   "metadata": {},
   "outputs": [
    {
     "data": {
      "text/html": [
       "<div>\n",
       "<style scoped>\n",
       "    .dataframe tbody tr th:only-of-type {\n",
       "        vertical-align: middle;\n",
       "    }\n",
       "\n",
       "    .dataframe tbody tr th {\n",
       "        vertical-align: top;\n",
       "    }\n",
       "\n",
       "    .dataframe thead th {\n",
       "        text-align: right;\n",
       "    }\n",
       "</style>\n",
       "<table border=\"1\" class=\"dataframe\">\n",
       "  <thead>\n",
       "    <tr style=\"text-align: right;\">\n",
       "      <th></th>\n",
       "      <th>Age</th>\n",
       "      <th>Sex</th>\n",
       "      <th>Chest pain type</th>\n",
       "      <th>BP</th>\n",
       "      <th>Cholesterol</th>\n",
       "      <th>FBS over 120</th>\n",
       "      <th>EKG results</th>\n",
       "      <th>Max HR</th>\n",
       "      <th>Exercise angina</th>\n",
       "      <th>ST depression</th>\n",
       "      <th>Slope of ST</th>\n",
       "      <th>Number of vessels fluro</th>\n",
       "      <th>Thallium</th>\n",
       "    </tr>\n",
       "  </thead>\n",
       "  <tbody>\n",
       "    <tr>\n",
       "      <th>0</th>\n",
       "      <td>70</td>\n",
       "      <td>1</td>\n",
       "      <td>4</td>\n",
       "      <td>130</td>\n",
       "      <td>322</td>\n",
       "      <td>0</td>\n",
       "      <td>2</td>\n",
       "      <td>109</td>\n",
       "      <td>0</td>\n",
       "      <td>2.4</td>\n",
       "      <td>2</td>\n",
       "      <td>3</td>\n",
       "      <td>3</td>\n",
       "    </tr>\n",
       "    <tr>\n",
       "      <th>1</th>\n",
       "      <td>67</td>\n",
       "      <td>0</td>\n",
       "      <td>3</td>\n",
       "      <td>115</td>\n",
       "      <td>564</td>\n",
       "      <td>0</td>\n",
       "      <td>2</td>\n",
       "      <td>160</td>\n",
       "      <td>0</td>\n",
       "      <td>1.6</td>\n",
       "      <td>2</td>\n",
       "      <td>0</td>\n",
       "      <td>7</td>\n",
       "    </tr>\n",
       "    <tr>\n",
       "      <th>2</th>\n",
       "      <td>57</td>\n",
       "      <td>1</td>\n",
       "      <td>2</td>\n",
       "      <td>124</td>\n",
       "      <td>261</td>\n",
       "      <td>0</td>\n",
       "      <td>0</td>\n",
       "      <td>141</td>\n",
       "      <td>0</td>\n",
       "      <td>0.3</td>\n",
       "      <td>1</td>\n",
       "      <td>0</td>\n",
       "      <td>7</td>\n",
       "    </tr>\n",
       "    <tr>\n",
       "      <th>3</th>\n",
       "      <td>64</td>\n",
       "      <td>1</td>\n",
       "      <td>4</td>\n",
       "      <td>128</td>\n",
       "      <td>263</td>\n",
       "      <td>0</td>\n",
       "      <td>0</td>\n",
       "      <td>105</td>\n",
       "      <td>1</td>\n",
       "      <td>0.2</td>\n",
       "      <td>2</td>\n",
       "      <td>1</td>\n",
       "      <td>7</td>\n",
       "    </tr>\n",
       "    <tr>\n",
       "      <th>4</th>\n",
       "      <td>74</td>\n",
       "      <td>0</td>\n",
       "      <td>2</td>\n",
       "      <td>120</td>\n",
       "      <td>269</td>\n",
       "      <td>0</td>\n",
       "      <td>2</td>\n",
       "      <td>121</td>\n",
       "      <td>1</td>\n",
       "      <td>0.2</td>\n",
       "      <td>1</td>\n",
       "      <td>1</td>\n",
       "      <td>3</td>\n",
       "    </tr>\n",
       "  </tbody>\n",
       "</table>\n",
       "</div>"
      ],
      "text/plain": [
       "   Age  Sex  Chest pain type   BP  Cholesterol  FBS over 120  EKG results  Max HR  Exercise angina  ST depression  Slope of ST  Number of vessels fluro  Thallium\n",
       "0  70   1    4                130  322          0             2            109     0                2.4            2            3                        3       \n",
       "1  67   0    3                115  564          0             2            160     0                1.6            2            0                        7       \n",
       "2  57   1    2                124  261          0             0            141     0                0.3            1            0                        7       \n",
       "3  64   1    4                128  263          0             0            105     1                0.2            2            1                        7       \n",
       "4  74   0    2                120  269          0             2            121     1                0.2            1            1                        3       "
      ]
     },
     "execution_count": 24,
     "metadata": {},
     "output_type": "execute_result"
    }
   ],
   "source": [
    "inputs.head()"
   ]
  },
  {
   "cell_type": "code",
   "execution_count": 25,
   "id": "89ee5a9e",
   "metadata": {},
   "outputs": [
    {
     "data": {
      "text/plain": [
       "0    1\n",
       "1    0\n",
       "2    1\n",
       "3    0\n",
       "4    0\n",
       "Name: Heart Disease, dtype: int32"
      ]
     },
     "execution_count": 25,
     "metadata": {},
     "output_type": "execute_result"
    }
   ],
   "source": [
    "target.head()"
   ]
  },
  {
   "cell_type": "markdown",
   "id": "59a9c78a",
   "metadata": {},
   "source": [
    "## Feature Scaling"
   ]
  },
  {
   "cell_type": "code",
   "execution_count": 26,
   "id": "e0fa11a3",
   "metadata": {},
   "outputs": [],
   "source": [
    "from sklearn.preprocessing import MinMaxScaler\n",
    "scaled_inputs = MinMaxScaler().fit_transform(inputs)"
   ]
  },
  {
   "cell_type": "code",
   "execution_count": 27,
   "id": "5ea63795",
   "metadata": {},
   "outputs": [
    {
     "data": {
      "text/plain": [
       "array([[0.85416667, 1.        , 1.        , ..., 0.5       , 1.        ,\n",
       "        0.        ],\n",
       "       [0.79166667, 0.        , 0.66666667, ..., 0.5       , 0.        ,\n",
       "        1.        ],\n",
       "       [0.58333333, 1.        , 0.33333333, ..., 0.        , 0.        ,\n",
       "        1.        ],\n",
       "       ...,\n",
       "       [0.5625    , 0.        , 0.33333333, ..., 0.5       , 0.        ,\n",
       "        0.        ],\n",
       "       [0.58333333, 1.        , 1.        , ..., 0.5       , 0.        ,\n",
       "        0.75      ],\n",
       "       [0.79166667, 1.        , 1.        , ..., 0.5       , 1.        ,\n",
       "        0.        ]])"
      ]
     },
     "execution_count": 27,
     "metadata": {},
     "output_type": "execute_result"
    }
   ],
   "source": [
    "scaled_inputs"
   ]
  },
  {
   "cell_type": "markdown",
   "id": "9c39ac9b",
   "metadata": {},
   "source": [
    "## Train_Test_Split"
   ]
  },
  {
   "cell_type": "code",
   "execution_count": 28,
   "id": "857d50c5",
   "metadata": {},
   "outputs": [],
   "source": [
    "from sklearn.model_selection import train_test_split\n",
    "X_train,X_test,y_train,y_test = train_test_split(scaled_inputs,target,test_size=0.3,random_state=0)"
   ]
  },
  {
   "cell_type": "code",
   "execution_count": 29,
   "id": "285079df",
   "metadata": {},
   "outputs": [
    {
     "name": "stdout",
     "output_type": "stream",
     "text": [
      "(189, 13)\n",
      "(81, 13)\n",
      "(189,)\n",
      "(81,)\n"
     ]
    }
   ],
   "source": [
    "print(X_train.shape)\n",
    "print(X_test.shape)\n",
    "print(y_train.shape)\n",
    "print(y_test.shape)"
   ]
  },
  {
   "cell_type": "markdown",
   "id": "aa93f36a",
   "metadata": {},
   "source": [
    "## Model Building and Performance Evaluation"
   ]
  },
  {
   "cell_type": "markdown",
   "id": "1320d9c5",
   "metadata": {},
   "source": [
    "# Classification Models :- 1. Logistic Regression , 2. Decision Tree , 3. Random Forest, 4. HyperParameter Tuning for  Random Forest"
   ]
  },
  {
   "cell_type": "markdown",
   "id": "a48c8c8e",
   "metadata": {},
   "source": [
    "## 1) Logistic Regression"
   ]
  },
  {
   "cell_type": "code",
   "execution_count": 30,
   "id": "6ebd66a9",
   "metadata": {},
   "outputs": [
    {
     "data": {
      "text/plain": [
       "LogisticRegression()"
      ]
     },
     "execution_count": 30,
     "metadata": {},
     "output_type": "execute_result"
    }
   ],
   "source": [
    "from sklearn.linear_model import LogisticRegression\n",
    "lr_model =LogisticRegression()\n",
    "lr_model.fit(X_train,y_train)"
   ]
  },
  {
   "cell_type": "code",
   "execution_count": 31,
   "id": "131d2e67",
   "metadata": {},
   "outputs": [
    {
     "name": "stdout",
     "output_type": "stream",
     "text": [
      "Test data accuracy is :  0.8271604938271605\n",
      "Train data accuracy is :  0.8571428571428571\n"
     ]
    }
   ],
   "source": [
    "print(\"Test data accuracy is : \",lr_model.score(X_test, y_test)) \n",
    "print(\"Train data accuracy is : \",lr_model.score(X_train, y_train))"
   ]
  },
  {
   "cell_type": "code",
   "execution_count": 32,
   "id": "b1376b12",
   "metadata": {},
   "outputs": [],
   "source": [
    "predicted =lr_model.predict(X_test)"
   ]
  },
  {
   "cell_type": "code",
   "execution_count": 33,
   "id": "f2d742df",
   "metadata": {
    "scrolled": true
   },
   "outputs": [],
   "source": [
    "pred_prob= lr_model.predict_proba(X_test)"
   ]
  },
  {
   "cell_type": "code",
   "execution_count": 34,
   "id": "3b34fbf6",
   "metadata": {},
   "outputs": [
    {
     "name": "stdout",
     "output_type": "stream",
     "text": [
      "Accuracy for Logistic Regression: 0.8271604938271605\n"
     ]
    }
   ],
   "source": [
    "from sklearn.metrics import accuracy_score\n",
    "logi = accuracy_score(y_test, predicted)\n",
    "print (\"Accuracy for Logistic Regression: {}\".format(logi))"
   ]
  },
  {
   "cell_type": "code",
   "execution_count": 35,
   "id": "c7ba2724",
   "metadata": {},
   "outputs": [
    {
     "data": {
      "text/html": [
       "<div>\n",
       "<style scoped>\n",
       "    .dataframe tbody tr th:only-of-type {\n",
       "        vertical-align: middle;\n",
       "    }\n",
       "\n",
       "    .dataframe tbody tr th {\n",
       "        vertical-align: top;\n",
       "    }\n",
       "\n",
       "    .dataframe thead th {\n",
       "        text-align: right;\n",
       "    }\n",
       "</style>\n",
       "<table border=\"1\" class=\"dataframe\">\n",
       "  <thead>\n",
       "    <tr style=\"text-align: right;\">\n",
       "      <th></th>\n",
       "      <th>Age</th>\n",
       "      <th>Sex</th>\n",
       "      <th>Chest pain type</th>\n",
       "      <th>BP</th>\n",
       "      <th>Cholesterol</th>\n",
       "      <th>FBS over 120</th>\n",
       "      <th>EKG results</th>\n",
       "      <th>Max HR</th>\n",
       "      <th>Exercise angina</th>\n",
       "      <th>ST depression</th>\n",
       "      <th>Slope of ST</th>\n",
       "      <th>Number of vessels fluro</th>\n",
       "      <th>Thallium</th>\n",
       "      <th>Heart Disease</th>\n",
       "    </tr>\n",
       "  </thead>\n",
       "  <tbody>\n",
       "    <tr>\n",
       "      <th>0</th>\n",
       "      <td>70</td>\n",
       "      <td>1</td>\n",
       "      <td>4</td>\n",
       "      <td>130</td>\n",
       "      <td>322</td>\n",
       "      <td>0</td>\n",
       "      <td>2</td>\n",
       "      <td>109</td>\n",
       "      <td>0</td>\n",
       "      <td>2.4</td>\n",
       "      <td>2</td>\n",
       "      <td>3</td>\n",
       "      <td>3</td>\n",
       "      <td>1</td>\n",
       "    </tr>\n",
       "    <tr>\n",
       "      <th>1</th>\n",
       "      <td>67</td>\n",
       "      <td>0</td>\n",
       "      <td>3</td>\n",
       "      <td>115</td>\n",
       "      <td>564</td>\n",
       "      <td>0</td>\n",
       "      <td>2</td>\n",
       "      <td>160</td>\n",
       "      <td>0</td>\n",
       "      <td>1.6</td>\n",
       "      <td>2</td>\n",
       "      <td>0</td>\n",
       "      <td>7</td>\n",
       "      <td>0</td>\n",
       "    </tr>\n",
       "    <tr>\n",
       "      <th>2</th>\n",
       "      <td>57</td>\n",
       "      <td>1</td>\n",
       "      <td>2</td>\n",
       "      <td>124</td>\n",
       "      <td>261</td>\n",
       "      <td>0</td>\n",
       "      <td>0</td>\n",
       "      <td>141</td>\n",
       "      <td>0</td>\n",
       "      <td>0.3</td>\n",
       "      <td>1</td>\n",
       "      <td>0</td>\n",
       "      <td>7</td>\n",
       "      <td>1</td>\n",
       "    </tr>\n",
       "    <tr>\n",
       "      <th>3</th>\n",
       "      <td>64</td>\n",
       "      <td>1</td>\n",
       "      <td>4</td>\n",
       "      <td>128</td>\n",
       "      <td>263</td>\n",
       "      <td>0</td>\n",
       "      <td>0</td>\n",
       "      <td>105</td>\n",
       "      <td>1</td>\n",
       "      <td>0.2</td>\n",
       "      <td>2</td>\n",
       "      <td>1</td>\n",
       "      <td>7</td>\n",
       "      <td>0</td>\n",
       "    </tr>\n",
       "    <tr>\n",
       "      <th>4</th>\n",
       "      <td>74</td>\n",
       "      <td>0</td>\n",
       "      <td>2</td>\n",
       "      <td>120</td>\n",
       "      <td>269</td>\n",
       "      <td>0</td>\n",
       "      <td>2</td>\n",
       "      <td>121</td>\n",
       "      <td>1</td>\n",
       "      <td>0.2</td>\n",
       "      <td>1</td>\n",
       "      <td>1</td>\n",
       "      <td>3</td>\n",
       "      <td>0</td>\n",
       "    </tr>\n",
       "  </tbody>\n",
       "</table>\n",
       "</div>"
      ],
      "text/plain": [
       "   Age  Sex  Chest pain type   BP  Cholesterol  FBS over 120  EKG results  Max HR  Exercise angina  ST depression  Slope of ST  Number of vessels fluro  Thallium  Heart Disease\n",
       "0  70   1    4                130  322          0             2            109     0                2.4            2            3                        3         1            \n",
       "1  67   0    3                115  564          0             2            160     0                1.6            2            0                        7         0            \n",
       "2  57   1    2                124  261          0             0            141     0                0.3            1            0                        7         1            \n",
       "3  64   1    4                128  263          0             0            105     1                0.2            2            1                        7         0            \n",
       "4  74   0    2                120  269          0             2            121     1                0.2            1            1                        3         0            "
      ]
     },
     "execution_count": 35,
     "metadata": {},
     "output_type": "execute_result"
    }
   ],
   "source": [
    "h_df.head()"
   ]
  },
  {
   "cell_type": "code",
   "execution_count": 56,
   "id": "c62c112c",
   "metadata": {},
   "outputs": [],
   "source": [
    "my_input2 = [[74,0,2,120,269,0,2,121,1,0.2,1,1,3]]"
   ]
  },
  {
   "cell_type": "code",
   "execution_count": 49,
   "id": "485b8bcb",
   "metadata": {},
   "outputs": [],
   "source": [
    "scaled_inputs1 = MinMaxScaler().fit_transform(my_input2)"
   ]
  },
  {
   "cell_type": "code",
   "execution_count": 57,
   "id": "4313d659",
   "metadata": {},
   "outputs": [],
   "source": [
    "test_pred1 = lr_model.predict(my_input2)"
   ]
  },
  {
   "cell_type": "code",
   "execution_count": 58,
   "id": "f1dd8492",
   "metadata": {},
   "outputs": [
    {
     "data": {
      "text/plain": [
       "array([1])"
      ]
     },
     "execution_count": 58,
     "metadata": {},
     "output_type": "execute_result"
    }
   ],
   "source": [
    "test_pred1"
   ]
  },
  {
   "cell_type": "code",
   "execution_count": 147,
   "id": "1781a370",
   "metadata": {},
   "outputs": [
    {
     "data": {
      "text/plain": [
       "array([[41,  7],\n",
       "       [ 7, 26]], dtype=int64)"
      ]
     },
     "execution_count": 147,
     "metadata": {},
     "output_type": "execute_result"
    }
   ],
   "source": [
    "from sklearn .metrics import confusion_matrix\n",
    "cm= confusion_matrix(y_test,predicted)\n",
    "cm"
   ]
  },
  {
   "cell_type": "code",
   "execution_count": 148,
   "id": "24d809a7",
   "metadata": {},
   "outputs": [
    {
     "data": {
      "text/plain": [
       "Text(69.0, 0.5, 'Truth')"
      ]
     },
     "execution_count": 148,
     "metadata": {},
     "output_type": "execute_result"
    },
    {
     "data": {
      "image/png": "[encoded data removed]",
      "text/plain": [
       "<Figure size 720x504 with 2 Axes>"
      ]
     },
     "metadata": {
      "needs_background": "light"
     },
     "output_type": "display_data"
    }
   ],
   "source": [
    "plt.figure(figsize = (10,7))\n",
    "sns.heatmap(cm, annot=True,fmt='.2f')\n",
    "plt.xlabel('Predicted')\n",
    "plt.ylabel('Truth')"
   ]
  },
  {
   "cell_type": "code",
   "execution_count": 149,
   "id": "24178aa8",
   "metadata": {},
   "outputs": [
    {
     "name": "stdout",
     "output_type": "stream",
     "text": [
      "              precision    recall  f1-score   support\n",
      "\n",
      "           0       0.85      0.85      0.85        48\n",
      "           1       0.79      0.79      0.79        33\n",
      "\n",
      "    accuracy                           0.83        81\n",
      "   macro avg       0.82      0.82      0.82        81\n",
      "weighted avg       0.83      0.83      0.83        81\n",
      "\n"
     ]
    }
   ],
   "source": [
    "from sklearn.metrics import classification_report\n",
    "\n",
    "print(classification_report(y_test,predicted))"
   ]
  },
  {
   "cell_type": "markdown",
   "id": "90603215",
   "metadata": {},
   "source": [
    "#### ROC curve"
   ]
  },
  {
   "cell_type": "code",
   "execution_count": 150,
   "id": "ae691ea2",
   "metadata": {},
   "outputs": [
    {
     "data": {
      "text/plain": [
       "<Figure size 432x288 with 0 Axes>"
      ]
     },
     "metadata": {},
     "output_type": "display_data"
    },
    {
     "data": {
      "image/png": "[encoded data removed]",
      "text/plain": [
       "<Figure size 432x288 with 1 Axes>"
      ]
     },
     "metadata": {
      "needs_background": "light"
     },
     "output_type": "display_data"
    },
    {
     "name": "stdout",
     "output_type": "stream",
     "text": [
      "Logistic Regression score:  0.8271604938271605\n"
     ]
    }
   ],
   "source": [
    "from sklearn.metrics import accuracy_score\n",
    "from sklearn import metrics\n",
    "from sklearn.metrics import roc_curve\n",
    "\n",
    "plt.figure()\n",
    "metrics.plot_roc_curve(lr_model, X_test, y_test)\n",
    "plt.title(\"Receiver Operating Characteristic (ROC)\")\n",
    "plt.show()\n",
    "\n",
    "print(\"Logistic Regression score: \", logi)"
   ]
  },
  {
   "cell_type": "code",
   "execution_count": 151,
   "id": "e3a74421",
   "metadata": {},
   "outputs": [
    {
     "name": "stdout",
     "output_type": "stream",
     "text": [
      "('Area Under Curve :', 0.9059343434343434)\n"
     ]
    }
   ],
   "source": [
    "from sklearn.metrics import roc_curve,roc_auc_score\n",
    "AUC_Test = ('Area Under Curve :', roc_auc_score(y_test,  pred_prob[:,1]))\n",
    "print(AUC_Test)"
   ]
  },
  {
   "cell_type": "markdown",
   "id": "8bd7f464",
   "metadata": {},
   "source": [
    "### AUC(Area under Curve) is nearly 90.5%, which is good. this means model is covering 90.5% of the datapoints well."
   ]
  },
  {
   "cell_type": "markdown",
   "id": "b2c97b70",
   "metadata": {},
   "source": [
    "## 2) Decision Tree"
   ]
  },
  {
   "cell_type": "code",
   "execution_count": 152,
   "id": "50da1d2e",
   "metadata": {},
   "outputs": [
    {
     "data": {
      "text/plain": [
       "DecisionTreeClassifier()"
      ]
     },
     "execution_count": 152,
     "metadata": {},
     "output_type": "execute_result"
    }
   ],
   "source": [
    "from sklearn.tree import DecisionTreeClassifier\n",
    "dt_model = DecisionTreeClassifier()\n",
    "dt_model.fit(X_train, y_train)"
   ]
  },
  {
   "cell_type": "code",
   "execution_count": 153,
   "id": "3e24e317",
   "metadata": {},
   "outputs": [
    {
     "name": "stdout",
     "output_type": "stream",
     "text": [
      "Test data accuracy is :  0.7407407407407407\n",
      "Train data accuracy is :  1.0\n"
     ]
    }
   ],
   "source": [
    "print(\"Test data accuracy is : \",dt_model.score(X_test, y_test)) \n",
    "print(\"Train data accuracy is : \",dt_model.score(X_train, y_train))"
   ]
  },
  {
   "cell_type": "code",
   "execution_count": 154,
   "id": "5704e83e",
   "metadata": {},
   "outputs": [],
   "source": [
    "predicted1 =dt_model.predict(X_test)"
   ]
  },
  {
   "cell_type": "code",
   "execution_count": 192,
   "id": "094f15fe",
   "metadata": {},
   "outputs": [
    {
     "name": "stdout",
     "output_type": "stream",
     "text": [
      "Accuracy for Decision Tree: 0.7407407407407407\n"
     ]
    }
   ],
   "source": [
    "deci = accuracy_score(y_test, predicted1)\n",
    "print (\"Accuracy for Decision Tree: {}\".format(deci))"
   ]
  },
  {
   "cell_type": "code",
   "execution_count": 156,
   "id": "f4056497",
   "metadata": {},
   "outputs": [
    {
     "data": {
      "text/plain": [
       "array([[36, 12],\n",
       "       [ 9, 24]], dtype=int64)"
      ]
     },
     "execution_count": 156,
     "metadata": {},
     "output_type": "execute_result"
    }
   ],
   "source": [
    "from sklearn .metrics import confusion_matrix\n",
    "cm1= confusion_matrix(y_test,predicted1)\n",
    "cm1"
   ]
  },
  {
   "cell_type": "code",
   "execution_count": 157,
   "id": "13886a21",
   "metadata": {},
   "outputs": [
    {
     "data": {
      "text/plain": [
       "Text(69.0, 0.5, 'Truth')"
      ]
     },
     "execution_count": 157,
     "metadata": {},
     "output_type": "execute_result"
    },
    {
     "data": {
      "image/png": "[encoded data removed]",
      "text/plain": [
       "<Figure size 720x504 with 2 Axes>"
      ]
     },
     "metadata": {
      "needs_background": "light"
     },
     "output_type": "display_data"
    }
   ],
   "source": [
    "plt.figure(figsize = (10,7))\n",
    "sns.heatmap(cm1, annot=True,fmt='.2f')\n",
    "plt.xlabel('Predicted')\n",
    "plt.ylabel('Truth')"
   ]
  },
  {
   "cell_type": "code",
   "execution_count": 158,
   "id": "d0ad906d",
   "metadata": {},
   "outputs": [
    {
     "name": "stdout",
     "output_type": "stream",
     "text": [
      "              precision    recall  f1-score   support\n",
      "\n",
      "           0       0.80      0.75      0.77        48\n",
      "           1       0.67      0.73      0.70        33\n",
      "\n",
      "    accuracy                           0.74        81\n",
      "   macro avg       0.73      0.74      0.73        81\n",
      "weighted avg       0.75      0.74      0.74        81\n",
      "\n"
     ]
    }
   ],
   "source": [
    "from sklearn.metrics import classification_report\n",
    "\n",
    "print(classification_report(y_test,predicted1))"
   ]
  },
  {
   "cell_type": "code",
   "execution_count": 202,
   "id": "4b35b48b",
   "metadata": {},
   "outputs": [],
   "source": [
    "pred_prob1 = dt_model.predict_proba(X_test)"
   ]
  },
  {
   "cell_type": "code",
   "execution_count": 160,
   "id": "3d2a0084",
   "metadata": {},
   "outputs": [
    {
     "data": {
      "text/plain": [
       "<Figure size 432x288 with 0 Axes>"
      ]
     },
     "metadata": {},
     "output_type": "display_data"
    },
    {
     "data": {
      "image/png": "[encoded data removed]",
      "text/plain": [
       "<Figure size 432x288 with 1 Axes>"
      ]
     },
     "metadata": {
      "needs_background": "light"
     },
     "output_type": "display_data"
    },
    {
     "name": "stdout",
     "output_type": "stream",
     "text": [
      "Decision Tree score:  0.7407407407407407\n"
     ]
    }
   ],
   "source": [
    "plt.figure()\n",
    "metrics.plot_roc_curve(dt_model, X_test, y_test)\n",
    "plt.title(\"Receiver Operating Characteristic (ROC)\")\n",
    "plt.show()\n",
    "\n",
    "print(\"Decision Tree score: \", deci)"
   ]
  },
  {
   "cell_type": "code",
   "execution_count": 161,
   "id": "118815ad",
   "metadata": {},
   "outputs": [
    {
     "data": {
      "text/plain": [
       "('Area Under Curve :', 0.7386363636363636)"
      ]
     },
     "execution_count": 161,
     "metadata": {},
     "output_type": "execute_result"
    }
   ],
   "source": [
    "AUC_Test = ('Area Under Curve :',  roc_auc_score(y_test,  pred_prob1[:,1]))\n",
    "AUC_Test"
   ]
  },
  {
   "cell_type": "markdown",
   "id": "a5618379",
   "metadata": {},
   "source": [
    " ## 3) Random Forest"
   ]
  },
  {
   "cell_type": "code",
   "execution_count": 162,
   "id": "839dbdf1",
   "metadata": {},
   "outputs": [
    {
     "data": {
      "text/plain": [
       "RandomForestClassifier(random_state=0)"
      ]
     },
     "execution_count": 162,
     "metadata": {},
     "output_type": "execute_result"
    }
   ],
   "source": [
    "from sklearn.ensemble import RandomForestClassifier\n",
    "\n",
    "rf_model = RandomForestClassifier(random_state=0)\n",
    "rf_model.fit(X_train, y_train)"
   ]
  },
  {
   "cell_type": "code",
   "execution_count": 163,
   "id": "145d4234",
   "metadata": {},
   "outputs": [
    {
     "name": "stdout",
     "output_type": "stream",
     "text": [
      "Test data accuracy is :  0.8024691358024691\n",
      "Train data accuracy is :  1.0\n"
     ]
    }
   ],
   "source": [
    "print(\"Test data accuracy is : \",rf_model.score(X_test, y_test)) \n",
    "print(\"Train data accuracy is : \",rf_model.score(X_train, y_train))"
   ]
  },
  {
   "cell_type": "code",
   "execution_count": 164,
   "id": "c21f82e5",
   "metadata": {},
   "outputs": [],
   "source": [
    "predicted2 =rf_model.predict(X_test)"
   ]
  },
  {
   "cell_type": "code",
   "execution_count": 165,
   "id": "e454fdd9",
   "metadata": {},
   "outputs": [
    {
     "name": "stdout",
     "output_type": "stream",
     "text": [
      "Accuracy for Random Forest: 0.8024691358024691\n"
     ]
    }
   ],
   "source": [
    "random = accuracy_score(y_test, predicted2)\n",
    "print (\"Accuracy for Random Forest: {}\".format(random))"
   ]
  },
  {
   "cell_type": "code",
   "execution_count": 166,
   "id": "ab5202c3",
   "metadata": {},
   "outputs": [
    {
     "data": {
      "text/plain": [
       "array([[37, 11],\n",
       "       [ 5, 28]], dtype=int64)"
      ]
     },
     "execution_count": 166,
     "metadata": {},
     "output_type": "execute_result"
    }
   ],
   "source": [
    "from sklearn .metrics import confusion_matrix\n",
    "cm2= confusion_matrix(y_test,predicted2)\n",
    "cm2"
   ]
  },
  {
   "cell_type": "code",
   "execution_count": 167,
   "id": "e06d5642",
   "metadata": {},
   "outputs": [
    {
     "data": {
      "text/plain": [
       "Text(69.0, 0.5, 'Truth')"
      ]
     },
     "execution_count": 167,
     "metadata": {},
     "output_type": "execute_result"
    },
    {
     "data": {
      "image/png": "[encoded data removed]",
      "text/plain": [
       "<Figure size 720x504 with 2 Axes>"
      ]
     },
     "metadata": {
      "needs_background": "light"
     },
     "output_type": "display_data"
    }
   ],
   "source": [
    "plt.figure(figsize = (10,7))\n",
    "sns.heatmap(cm2, annot=True,fmt='.2f')\n",
    "plt.xlabel('Predicted')\n",
    "plt.ylabel('Truth')"
   ]
  },
  {
   "cell_type": "code",
   "execution_count": 168,
   "id": "79070336",
   "metadata": {},
   "outputs": [
    {
     "name": "stdout",
     "output_type": "stream",
     "text": [
      "              precision    recall  f1-score   support\n",
      "\n",
      "           0       0.88      0.77      0.82        48\n",
      "           1       0.72      0.85      0.78        33\n",
      "\n",
      "    accuracy                           0.80        81\n",
      "   macro avg       0.80      0.81      0.80        81\n",
      "weighted avg       0.81      0.80      0.80        81\n",
      "\n"
     ]
    }
   ],
   "source": [
    "from sklearn.metrics import classification_report\n",
    "\n",
    "print(classification_report(y_test,predicted2))"
   ]
  },
  {
   "cell_type": "code",
   "execution_count": 169,
   "id": "148a94e7",
   "metadata": {
    "collapsed": true
   },
   "outputs": [
    {
     "data": {
      "text/plain": [
       "array([[0.56, 0.44],\n",
       "       [0.67, 0.33],\n",
       "       [0.11, 0.89],\n",
       "       [0.15, 0.85],\n",
       "       [0.67, 0.33],\n",
       "       [0.59, 0.41],\n",
       "       [0.63, 0.37],\n",
       "       [0.7 , 0.3 ],\n",
       "       [0.43, 0.57],\n",
       "       [0.77, 0.23],\n",
       "       [0.82, 0.18],\n",
       "       [0.65, 0.35],\n",
       "       [0.65, 0.35],\n",
       "       [0.1 , 0.9 ],\n",
       "       [0.12, 0.88],\n",
       "       [0.85, 0.15],\n",
       "       [0.89, 0.11],\n",
       "       [0.41, 0.59],\n",
       "       [0.24, 0.76],\n",
       "       [0.71, 0.29],\n",
       "       [0.02, 0.98],\n",
       "       [0.89, 0.11],\n",
       "       [0.08, 0.92],\n",
       "       [0.27, 0.73],\n",
       "       [0.46, 0.54],\n",
       "       [0.71, 0.29],\n",
       "       [0.66, 0.34],\n",
       "       [0.83, 0.17],\n",
       "       [0.39, 0.61],\n",
       "       [0.47, 0.53],\n",
       "       [0.47, 0.53],\n",
       "       [0.35, 0.65],\n",
       "       [0.01, 0.99],\n",
       "       [0.97, 0.03],\n",
       "       [0.1 , 0.9 ],\n",
       "       [0.55, 0.45],\n",
       "       [0.03, 0.97],\n",
       "       [0.23, 0.77],\n",
       "       [1.  , 0.  ],\n",
       "       [0.68, 0.32],\n",
       "       [0.47, 0.53],\n",
       "       [0.94, 0.06],\n",
       "       [0.97, 0.03],\n",
       "       [0.14, 0.86],\n",
       "       [0.9 , 0.1 ],\n",
       "       [0.71, 0.29],\n",
       "       [0.22, 0.78],\n",
       "       [0.57, 0.43],\n",
       "       [0.04, 0.96],\n",
       "       [0.39, 0.61],\n",
       "       [0.08, 0.92],\n",
       "       [0.4 , 0.6 ],\n",
       "       [0.72, 0.28],\n",
       "       [0.45, 0.55],\n",
       "       [0.59, 0.41],\n",
       "       [0.66, 0.34],\n",
       "       [0.66, 0.34],\n",
       "       [0.24, 0.76],\n",
       "       [0.96, 0.04],\n",
       "       [0.28, 0.72],\n",
       "       [0.83, 0.17],\n",
       "       [0.95, 0.05],\n",
       "       [0.77, 0.23],\n",
       "       [0.72, 0.28],\n",
       "       [0.91, 0.09],\n",
       "       [0.27, 0.73],\n",
       "       [0.4 , 0.6 ],\n",
       "       [0.4 , 0.6 ],\n",
       "       [0.46, 0.54],\n",
       "       [0.86, 0.14],\n",
       "       [0.58, 0.42],\n",
       "       [0.39, 0.61],\n",
       "       [0.16, 0.84],\n",
       "       [0.68, 0.32],\n",
       "       [0.25, 0.75],\n",
       "       [0.68, 0.32],\n",
       "       [0.39, 0.61],\n",
       "       [0.75, 0.25],\n",
       "       [0.65, 0.35],\n",
       "       [0.1 , 0.9 ],\n",
       "       [0.16, 0.84]])"
      ]
     },
     "execution_count": 169,
     "metadata": {},
     "output_type": "execute_result"
    }
   ],
   "source": [
    "pred_prob2 = rf_model.predict_proba(X_test)"
   ]
  },
  {
   "cell_type": "code",
   "execution_count": 170,
   "id": "8f6bdb99",
   "metadata": {},
   "outputs": [
    {
     "data": {
      "text/plain": [
       "<Figure size 432x288 with 0 Axes>"
      ]
     },
     "metadata": {},
     "output_type": "display_data"
    },
    {
     "data": {
      "image/png": "[encoded data removed]",
      "text/plain": [
       "<Figure size 432x288 with 1 Axes>"
      ]
     },
     "metadata": {
      "needs_background": "light"
     },
     "output_type": "display_data"
    },
    {
     "name": "stdout",
     "output_type": "stream",
     "text": [
      "Random Forest score:  0.8024691358024691\n"
     ]
    }
   ],
   "source": [
    "plt.figure()\n",
    "metrics.plot_roc_curve(rf_model, X_test, y_test)\n",
    "plt.title(\"Receiver Operating Characteristic (ROC)\")\n",
    "plt.show()\n",
    "\n",
    "print(\"Random Forest score: \", random)"
   ]
  },
  {
   "cell_type": "code",
   "execution_count": 171,
   "id": "cf882b44",
   "metadata": {},
   "outputs": [
    {
     "data": {
      "text/plain": [
       "('Area Under Curve :', 0.880050505050505)"
      ]
     },
     "execution_count": 171,
     "metadata": {},
     "output_type": "execute_result"
    }
   ],
   "source": [
    "AUC_Test = ('Area Under Curve :', roc_auc_score(y_test,  pred_prob2[:,1]))\n",
    "AUC_Test"
   ]
  },
  {
   "cell_type": "markdown",
   "id": "3a3abc83",
   "metadata": {},
   "source": [
    "## 4) Random Forest Hyper-Parameter Tuning"
   ]
  },
  {
   "cell_type": "markdown",
   "id": "6b86e9ad",
   "metadata": {},
   "source": [
    "### By using GridSearchCV"
   ]
  },
  {
   "cell_type": "code",
   "execution_count": 172,
   "id": "861a87ad",
   "metadata": {},
   "outputs": [],
   "source": [
    "from sklearn.model_selection import GridSearchCV"
   ]
  },
  {
   "cell_type": "code",
   "execution_count": 173,
   "id": "9709f27a",
   "metadata": {},
   "outputs": [
    {
     "data": {
      "text/plain": [
       "GridSearchCV(cv=10, estimator=RandomForestClassifier(random_state=0),\n",
       "             param_grid={'criterion': ['gini', 'entropy'],\n",
       "                         'max_depth': [2, 3, 4, 5],\n",
       "                         'max_features': [1, 3, 5, 10],\n",
       "                         'min_samples_leaf': [1, 2, 3, 4],\n",
       "                         'min_samples_split': [2, 3, 5, 10]})"
      ]
     },
     "execution_count": 173,
     "metadata": {},
     "output_type": "execute_result"
    }
   ],
   "source": [
    "#run a gridsearch cross validation random forest model with 10 fold cross validation\n",
    "\n",
    "param_grid_var_rf = {\"max_depth\":[2,3,4,5],\n",
    "                  \"max_features\":[1,3,5,10],\n",
    "                  \"min_samples_split\":[2,3,5,10],\n",
    "                  \"criterion\":[\"gini\",\"entropy\"],\n",
    "                  \"min_samples_leaf\":[1,2,3,4]}\n",
    "\n",
    "grid_search_rf = GridSearchCV(rf_model,param_grid= param_grid_var_rf,cv=10)\n",
    "grid_search_rf.fit(X_train,y_train)"
   ]
  },
  {
   "cell_type": "code",
   "execution_count": 174,
   "id": "11e03fcb",
   "metadata": {},
   "outputs": [
    {
     "data": {
      "text/plain": [
       "{'criterion': 'entropy',\n",
       " 'max_depth': 4,\n",
       " 'max_features': 1,\n",
       " 'min_samples_leaf': 4,\n",
       " 'min_samples_split': 10}"
      ]
     },
     "execution_count": 174,
     "metadata": {},
     "output_type": "execute_result"
    }
   ],
   "source": [
    "grid_search_rf.best_params_"
   ]
  },
  {
   "cell_type": "code",
   "execution_count": 175,
   "id": "df31dd5c",
   "metadata": {},
   "outputs": [
    {
     "name": "stdout",
     "output_type": "stream",
     "text": [
      "0.8728070175438598\n",
      "{'bootstrap': True, 'ccp_alpha': 0.0, 'class_weight': None, 'criterion': 'entropy', 'max_depth': 4, 'max_features': 1, 'max_leaf_nodes': None, 'max_samples': None, 'min_impurity_decrease': 0.0, 'min_samples_leaf': 4, 'min_samples_split': 10, 'min_weight_fraction_leaf': 0.0, 'n_estimators': 100, 'n_jobs': None, 'oob_score': False, 'random_state': 0, 'verbose': 0, 'warm_start': False}\n"
     ]
    }
   ],
   "source": [
    "print(grid_search_rf.best_score_)\n",
    "print(grid_search_rf.best_estimator_.get_params())"
   ]
  },
  {
   "cell_type": "markdown",
   "id": "6c180017",
   "metadata": {},
   "source": [
    "##### Random Forest using above Hyper Parameter tuned Best Params"
   ]
  },
  {
   "cell_type": "code",
   "execution_count": 176,
   "id": "16c3253a",
   "metadata": {},
   "outputs": [
    {
     "data": {
      "text/plain": [
       "RandomForestClassifier(criterion='entropy', max_depth=4, max_features=1,\n",
       "                       min_samples_leaf=4, min_samples_split=10)"
      ]
     },
     "execution_count": 176,
     "metadata": {},
     "output_type": "execute_result"
    }
   ],
   "source": [
    "rf_tuned = RandomForestClassifier(**grid_search_rf.best_params_)\n",
    "rf_tuned.fit(X_train,y_train)"
   ]
  },
  {
   "cell_type": "code",
   "execution_count": 177,
   "id": "c3f3ebe8",
   "metadata": {},
   "outputs": [
    {
     "name": "stdout",
     "output_type": "stream",
     "text": [
      "Test data accuracy is :  0.8148148148148148\n",
      "Train data accuracy is :  0.8888888888888888\n"
     ]
    }
   ],
   "source": [
    "print(\"Test data accuracy is : \",rf_tuned.score(X_test, y_test)) \n",
    "print(\"Train data accuracy is : \",rf_tuned.score(X_train, y_train))"
   ]
  },
  {
   "cell_type": "code",
   "execution_count": 178,
   "id": "f24ae887",
   "metadata": {},
   "outputs": [],
   "source": [
    "pred_rf_tune_test = rf_tuned.predict(X_test)"
   ]
  },
  {
   "cell_type": "code",
   "execution_count": 179,
   "id": "8e84081d",
   "metadata": {},
   "outputs": [
    {
     "name": "stdout",
     "output_type": "stream",
     "text": [
      "Accuracy for Random Forest with Parameter Tuning: 0.8148148148148148\n"
     ]
    }
   ],
   "source": [
    "random_grid = accuracy_score(y_test, pred_rf_tune_test)\n",
    "print (\"Accuracy for Random Forest with Parameter Tuning: {}\".format(random_grid))"
   ]
  },
  {
   "cell_type": "code",
   "execution_count": 180,
   "id": "90902f51",
   "metadata": {},
   "outputs": [
    {
     "data": {
      "text/plain": [
       "array([[40,  8],\n",
       "       [ 7, 26]], dtype=int64)"
      ]
     },
     "execution_count": 180,
     "metadata": {},
     "output_type": "execute_result"
    }
   ],
   "source": [
    "from sklearn .metrics import confusion_matrix\n",
    "cm3= confusion_matrix(y_test,pred_rf_tune_test)\n",
    "cm3"
   ]
  },
  {
   "cell_type": "code",
   "execution_count": 181,
   "id": "7dcac2a7",
   "metadata": {},
   "outputs": [
    {
     "data": {
      "text/plain": [
       "Text(69.0, 0.5, 'Truth')"
      ]
     },
     "execution_count": 181,
     "metadata": {},
     "output_type": "execute_result"
    },
    {
     "data": {
      "image/png": "[encoded data removed]",
      "text/plain": [
       "<Figure size 720x504 with 2 Axes>"
      ]
     },
     "metadata": {
      "needs_background": "light"
     },
     "output_type": "display_data"
    }
   ],
   "source": [
    "plt.figure(figsize = (10,7))\n",
    "sns.heatmap(cm3, annot=True,fmt='.2f')\n",
    "plt.xlabel('Predicted')\n",
    "plt.ylabel('Truth')"
   ]
  },
  {
   "cell_type": "code",
   "execution_count": 182,
   "id": "c83786f7",
   "metadata": {},
   "outputs": [
    {
     "name": "stdout",
     "output_type": "stream",
     "text": [
      "              precision    recall  f1-score   support\n",
      "\n",
      "           0       0.85      0.83      0.84        48\n",
      "           1       0.76      0.79      0.78        33\n",
      "\n",
      "    accuracy                           0.81        81\n",
      "   macro avg       0.81      0.81      0.81        81\n",
      "weighted avg       0.82      0.81      0.82        81\n",
      "\n"
     ]
    }
   ],
   "source": [
    "from sklearn.metrics import classification_report\n",
    "\n",
    "print(classification_report(y_test,pred_rf_tune_test))"
   ]
  },
  {
   "cell_type": "code",
   "execution_count": 194,
   "id": "e964994e",
   "metadata": {},
   "outputs": [],
   "source": [
    "pred_prob3 = rf_tuned.predict_proba(X_test)"
   ]
  },
  {
   "cell_type": "code",
   "execution_count": 184,
   "id": "b0a8b7cd",
   "metadata": {},
   "outputs": [
    {
     "data": {
      "text/plain": [
       "<Figure size 432x288 with 0 Axes>"
      ]
     },
     "metadata": {},
     "output_type": "display_data"
    },
    {
     "data": {
      "image/png": "[encoded data removed]",
      "text/plain": [
       "<Figure size 432x288 with 1 Axes>"
      ]
     },
     "metadata": {
      "needs_background": "light"
     },
     "output_type": "display_data"
    },
    {
     "name": "stdout",
     "output_type": "stream",
     "text": [
      "Random Forest Tuned score:  0.8148148148148148\n"
     ]
    }
   ],
   "source": [
    "plt.figure()\n",
    "metrics.plot_roc_curve(rf_tuned, X_test, y_test)\n",
    "plt.title(\"Receiver Operating Characteristic (ROC)\")\n",
    "plt.show()\n",
    "\n",
    "print(\"Random Forest Tuned score: \", random_grid)"
   ]
  },
  {
   "cell_type": "code",
   "execution_count": 185,
   "id": "0339362e",
   "metadata": {},
   "outputs": [
    {
     "data": {
      "text/plain": [
       "('Area Under Curve :', 0.9008838383838383)"
      ]
     },
     "execution_count": 185,
     "metadata": {},
     "output_type": "execute_result"
    }
   ],
   "source": [
    "AUC_Test = ('Area Under Curve :', roc_auc_score(y_test,  pred_prob3[:,1]))\n",
    "AUC_Test"
   ]
  },
  {
   "cell_type": "markdown",
   "id": "b39050a7",
   "metadata": {},
   "source": [
    "## Results :- Model Comparison"
   ]
  },
  {
   "cell_type": "code",
   "execution_count": 198,
   "id": "d313c838",
   "metadata": {},
   "outputs": [
    {
     "data": {
      "text/html": [
       "<div>\n",
       "<style scoped>\n",
       "    .dataframe tbody tr th:only-of-type {\n",
       "        vertical-align: middle;\n",
       "    }\n",
       "\n",
       "    .dataframe tbody tr th {\n",
       "        vertical-align: top;\n",
       "    }\n",
       "\n",
       "    .dataframe thead th {\n",
       "        text-align: right;\n",
       "    }\n",
       "</style>\n",
       "<table border=\"1\" class=\"dataframe\">\n",
       "  <thead>\n",
       "    <tr style=\"text-align: right;\">\n",
       "      <th></th>\n",
       "      <th>Estimators</th>\n",
       "      <th>Accuracy</th>\n",
       "    </tr>\n",
       "  </thead>\n",
       "  <tbody>\n",
       "    <tr>\n",
       "      <th>0</th>\n",
       "      <td>Logistic Regression</td>\n",
       "      <td>82.716049</td>\n",
       "    </tr>\n",
       "    <tr>\n",
       "      <th>3</th>\n",
       "      <td>Random Forest Tuned</td>\n",
       "      <td>81.481481</td>\n",
       "    </tr>\n",
       "    <tr>\n",
       "      <th>2</th>\n",
       "      <td>Random Forest</td>\n",
       "      <td>80.246914</td>\n",
       "    </tr>\n",
       "    <tr>\n",
       "      <th>1</th>\n",
       "      <td>Decision Tree</td>\n",
       "      <td>74.074074</td>\n",
       "    </tr>\n",
       "  </tbody>\n",
       "</table>\n",
       "</div>"
      ],
      "text/plain": [
       "            Estimators   Accuracy\n",
       "0  Logistic Regression  82.716049\n",
       "3  Random Forest Tuned  81.481481\n",
       "2  Random Forest        80.246914\n",
       "1  Decision Tree        74.074074"
      ]
     },
     "execution_count": 198,
     "metadata": {},
     "output_type": "execute_result"
    }
   ],
   "source": [
    "data = {'Models':['Logistic Regression', \n",
    "                      'Decision Tree', \n",
    "                      'Random Forest', \n",
    "                      'Random Forest Tuned'],\n",
    "        \"Accuracy\":[logi*100,\n",
    "                    deci*100,\n",
    "                    random*100,\n",
    "                    random_grid*100]\n",
    "        }\n",
    "\n",
    "data = pd.DataFrame(data)\n",
    "\n",
    "data.sort_values('Accuracy', ascending=False)"
   ]
  },
  {
   "cell_type": "markdown",
   "id": "223fff62",
   "metadata": {},
   "source": [
    "## Conclusion :-\n",
    "\n",
    "## Accuracy with 'Decision Tree' is Best here without having Overfitting or Underfitting Problem"
   ]
  },
  {
   "cell_type": "code",
   "execution_count": 200,
   "id": "4b307d73",
   "metadata": {},
   "outputs": [],
   "source": [
    "##### end #####"
   ]
  }
 ],
 "metadata": {
  "kernelspec": {
   "display_name": "Python 3 (ipykernel)",
   "language": "python",
   "name": "python3"
  },
  "language_info": {
   "codemirror_mode": {
    "name": "ipython",
    "version": 3
   },
   "file_extension": ".py",
   "mimetype": "text/x-python",
   "name": "python",
   "nbconvert_exporter": "python",
   "pygments_lexer": "ipython3",
   "version": "3.9.12"
  }
 },
 "nbformat": 4,
 "nbformat_minor": 5
}
